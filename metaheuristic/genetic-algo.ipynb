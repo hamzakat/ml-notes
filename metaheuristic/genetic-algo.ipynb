{
 "cells": [
  {
   "cell_type": "markdown",
   "metadata": {},
   "source": [
    "# Genetic Algorithms\n",
    "\n",
    "![image.png](https://upload.wikimedia.org/wikipedia/commons/thumb/c/c3/Metaheuristics_classification.svg/630px-Metaheuristics_classification.svg.png)"
   ]
  },
  {
   "cell_type": "markdown",
   "metadata": {},
   "source": [
    "First, we setup the genetic representation of a solution"
   ]
  },
  {
   "cell_type": "code",
   "execution_count": 1,
   "metadata": {},
   "outputs": [],
   "source": [
    "from typing import List\n",
    "from random import choices\n",
    "\n",
    "Genome = List[int]\n",
    "\n",
    "def generate_genome(length: int) -> Genome:\n",
    "    return choices([0, 1], k=length)"
   ]
  },
  {
   "cell_type": "markdown",
   "metadata": {},
   "source": [
    "We need also to generate new solutions, i.e. population"
   ]
  },
  {
   "cell_type": "code",
   "execution_count": 2,
   "metadata": {},
   "outputs": [],
   "source": [
    "Population = List[Genome]\n",
    "\n",
    "def generate_population(pop_size: int, genome_length: int) -> Population:\n",
    "    return [generate_genome(genome_length) for _ in range(pop_size)]"
   ]
  },
  {
   "cell_type": "markdown",
   "metadata": {},
   "source": [
    "Let's define the fitness function that'll be used in the evaluation phase"
   ]
  },
  {
   "cell_type": "code",
   "execution_count": 3,
   "metadata": {},
   "outputs": [],
   "source": [
    "from collections import namedtuple\n",
    "\n",
    "# part of the solution\n",
    "Individual = namedtuple(\"Individual\", [\"name\", \"value\", \"weight\"])\n",
    "\n",
    "def fitness(genome: Genome, individuals: [Individual], weight_limit: int) -> int:\n",
    "    if len(genome) != len(individuals):\n",
    "        raise ValueError(\"Genome and individuals must have the same length\")\n",
    "\n",
    "    weight = 0\n",
    "    value = 0\n",
    "\n",
    "    for i, individual in enumerate(individuals):\n",
    "        if genome[i] == 1:\n",
    "            weight += individual.weight\n",
    "            value += individual.value\n",
    "\n",
    "            if weight > weight_limit:\n",
    "                return 0\n",
    "    \n",
    "    return value"
   ]
  },
  {
   "cell_type": "markdown",
   "metadata": {},
   "source": [
    "Define the selection function to select pair of candidate solutions for the next generations"
   ]
  },
  {
   "cell_type": "code",
   "execution_count": 4,
   "metadata": {},
   "outputs": [],
   "source": [
    "from typing import Callable\n",
    "\n",
    "FitnessFunc = Callable[[Genome], int]\n",
    "\n",
    "def selection_pair(population: Population, fitness_func: FitnessFunc):\n",
    "    return choices(\n",
    "        population=population,\n",
    "        weights=[fitness_func(genome) for genome in population],\n",
    "        k=2\n",
    "    )"
   ]
  },
  {
   "cell_type": "markdown",
   "metadata": {},
   "source": [
    "Now, we define the single-point crossover function"
   ]
  },
  {
   "cell_type": "code",
   "execution_count": 5,
   "metadata": {},
   "outputs": [],
   "source": [
    "from typing import Tuple\n",
    "from random import randint\n",
    "\n",
    "def single_point_crossover(a: Genome, b: Genome) -> Tuple[Genome, Genome]:\n",
    "    # handle edge cases\n",
    "    if len(a) != len(b):\n",
    "        raise ValueError(\"Genomes should have the same length to apply the crossover\")\n",
    "\n",
    "    length = len(a)\n",
    "    if length < 2:\n",
    "        return a, b\n",
    "\n",
    "    # randomly set the point at which the crossover will occur\n",
    "    p = randint(1, length - 1)\n",
    "    \n",
    "    # return the children\n",
    "    return a[0:p] + b[p:], b[0:p] + a[p:]"
   ]
  },
  {
   "cell_type": "markdown",
   "metadata": {},
   "source": [
    "Lastly, we need the mutation function"
   ]
  },
  {
   "cell_type": "code",
   "execution_count": 6,
   "metadata": {},
   "outputs": [],
   "source": [
    "from random import randrange, random\n",
    "\n",
    "\n",
    "def mutate(genome: Genome, num: int = 1, probability: float = 0.5) -> Genome:\n",
    "    # by default, 2 genes are mutated\n",
    "    for _ in range(num):\n",
    "        index = randrange(len(genome))\n",
    "\n",
    "        # flips the gene value (e.g. changes 0 to 1 and vice versa)\n",
    "        genome[index] = genome[index] if random() > probability else abs(genome[index] - 1)\n",
    "    return genome"
   ]
  },
  {
   "cell_type": "code",
   "execution_count": 7,
   "metadata": {},
   "outputs": [],
   "source": [
    "PopulateFunc = Callable[[], Population]\n",
    "SelectionFunc = Callable[[Population, FitnessFunc], Tuple[Genome, Genome]]\n",
    "CrossoverFunc = Callable[[Genome, Genome], Tuple[Genome, Genome]]\n",
    "MutationFunc = Callable[[Genome], Genome]\n",
    "\n",
    "def run_evolution(\n",
    "    populate_func: PopulateFunc,\n",
    "    fitness_func: FitnessFunc,\n",
    "    fitness_limit: int,\n",
    "    selection_func: SelectionFunc = selection_pair,\n",
    "    crossover_func: CrossoverFunc = single_point_crossover,\n",
    "    mutation_func: MutationFunc = mutate,\n",
    "    generation_limit: int = 100,\n",
    "\n",
    "\n",
    ") -> Tuple[Population, int]:\n",
    "    # generate the population\n",
    "    population = populate_func()\n",
    "\n",
    "    # iterate over generations \n",
    "    for i in range(generation_limit):\n",
    "        \n",
    "        # sort population based on the solutions fitness\n",
    "        population = sorted(\n",
    "            population,\n",
    "            key=lambda genome: fitness_func(genome),\n",
    "            reverse=True\n",
    "        )\n",
    "\n",
    "        # return early if we reach the fitness limit (hint: we can implement elitism here)\n",
    "        if fitness_func(population[0]) >= fitness_limit:\n",
    "            break\n",
    "            \n",
    "        # keep the top 2 solutions for the next generation\n",
    "        next_generation = population[0:2]\n",
    "\n",
    "        # generate the solutions for the next generation\n",
    "        for j in range(int(len(population) / 2) - 1):\n",
    "            parents = selection_func(population, fitness_func)\n",
    "            offspring_a, offspring_b = crossover_func(parents[0], parents[1])\n",
    "            \n",
    "            offspring_a = mutation_func(offspring_a)\n",
    "            offspring_b = mutation_func(offspring_b)\n",
    "\n",
    "            next_generation += [offspring_a, offspring_b]\n",
    "        \n",
    "        population = next_generation\n",
    "\n",
    "    # check if we \n",
    "    population = sorted(\n",
    "        population,\n",
    "        key=lambda genome: fitness_func(genome),\n",
    "        reverse=True\n",
    "    )\n",
    "\n",
    "    return population, i\n",
    "                "
   ]
  },
  {
   "cell_type": "markdown",
   "metadata": {},
   "source": [
    "Now, it's time to run the algorithm. We'll solve the knapsack problem to demonstrate how the problem runs, given that the weight limit of knapsack is 3000."
   ]
  },
  {
   "cell_type": "code",
   "execution_count": 47,
   "metadata": {},
   "outputs": [
    {
     "name": "stdout",
     "output_type": "stream",
     "text": [
      "Number of generations: 0\n",
      "Best solution: ['Laptop', 'Headphones', 'Coffee Mug', 'Water Bottle']\n"
     ]
    }
   ],
   "source": [
    "\n",
    "\n",
    "items = [\n",
    "    Individual('Laptop', 500, 2200),\n",
    "    Individual('Headphones', 150, 160),\n",
    "    Individual('Coffee Mug', 60, 350),\n",
    "    Individual('Notepad', 40, 333),\n",
    "    Individual('Water Bottle', 30, 192),\n",
    "]\n",
    "\n",
    "more_items = [\n",
    "    Individual('Mints', 5, 25),\n",
    "    Individual('Socks', 10, 38),\n",
    "    Individual('Tissues', 15, 80),\n",
    "    Individual('Phone', 500, 200),\n",
    "    Individual('Baseball Cap', 100, 70)\n",
    "] + items\n",
    "\n",
    "\n",
    "# helper function to convert the genome representation of solution to the oiginal one\n",
    "def genome_to_items(genome: Genome, items: [Individual]) -> [Individual]:\n",
    "    result = []\n",
    "    for i, item in enumerate(items):\n",
    "        if genome[i] == 1:\n",
    "            result += [item.name]\n",
    "    return result\n",
    "\n",
    "\n",
    "from functools import partial\n",
    "\n",
    "\n",
    "# functions were made to be generalized and abstract\n",
    "# so we create a custom version using functools.partial so they meet our needs in knapsack problem\n",
    "\n",
    "population, generations = run_evolution(\n",
    "    populate_func=partial(\n",
    "        generate_population,\n",
    "        pop_size=10,\n",
    "        genome_length=len(items)\n",
    "    ),\n",
    "    fitness_func=partial(\n",
    "        fitness, \n",
    "        individuals=items,\n",
    "        weight_limit=3000\n",
    "    ),\n",
    "    fitness_limit=740,\n",
    "    generation_limit=100\n",
    ")\n",
    "\n",
    "\n",
    "\n",
    "print(f\"Number of generations: {generations}\")\n",
    "print(f\"Best solution: {genome_to_items(population[0], items)}\")"
   ]
  },
  {
   "cell_type": "markdown",
   "metadata": {},
   "source": [
    "# TODOs\n",
    "- Plot a chart showing the difference in fitness over generations\n",
    "- Plot the distribution of many algorithm runs"
   ]
  },
  {
   "cell_type": "markdown",
   "metadata": {},
   "source": [
    "# References\n",
    "\n",
    "- https://en.wikipedia.org/wiki/Metaheuristic\n",
    "- https://github.com/kiecodes/genetic-algorithms    \n",
    "    - https://www.youtube.com/watch?v=nhT56blfRpE"
   ]
  }
 ],
 "metadata": {
  "kernelspec": {
   "display_name": "data-analysis",
   "language": "python",
   "name": "python3"
  },
  "language_info": {
   "codemirror_mode": {
    "name": "ipython",
    "version": 3
   },
   "file_extension": ".py",
   "mimetype": "text/x-python",
   "name": "python",
   "nbconvert_exporter": "python",
   "pygments_lexer": "ipython3",
   "version": "3.9.16"
  }
 },
 "nbformat": 4,
 "nbformat_minor": 2
}
